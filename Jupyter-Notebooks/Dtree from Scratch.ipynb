{
 "cells": [
  {
   "cell_type": "code",
   "execution_count": 2,
   "metadata": {},
   "outputs": [
    {
     "data": {
      "text/plain": [
       "[['<=30', 'high', 'no', 'fair', 'no'],\n",
       " ['<=30', 'high ', 'no', 'excellent', 'no'],\n",
       " ['31...40', 'high', 'no', 'fair', 'yes'],\n",
       " ['>40', 'medium', 'no', 'fair', 'yes'],\n",
       " ['>40', 'low', 'yes', 'fair', 'yes'],\n",
       " ['>40', 'low', 'yes', 'excellent', 'no'],\n",
       " ['31...40', 'low', 'yes', 'excellent', 'yes'],\n",
       " ['<=30', 'medium', 'no', 'fair', 'no'],\n",
       " ['<=30', 'low', 'yes', 'fair', 'yes'],\n",
       " ['>40', 'medium', 'yes', 'fair', 'yes'],\n",
       " ['<=30', 'medium', 'yes', 'excellent', 'yes'],\n",
       " ['31...40', 'medium', 'no', 'excellent', 'yes'],\n",
       " ['31...40', 'high', 'yes', 'fair', 'yes'],\n",
       " ['>40', 'medium', 'no', 'excellent', 'no']]"
      ]
     },
     "execution_count": 2,
     "metadata": {},
     "output_type": "execute_result"
    }
   ],
   "source": [
    "import csv\n",
    "with open(\"../Datasets/LAB1.csv\", 'r') as f:\n",
    "  reader = csv.reader(f)\n",
    "  comp_data = list(reader)\n",
    "comp_data.remove(['age', 'income', 'student', 'credit rating', 'buys computer'])\n",
    "comp_data"
   ]
  },
  {
   "cell_type": "code",
   "execution_count": 3,
   "metadata": {},
   "outputs": [],
   "source": [
    "columns = ['age', 'income', 'student', 'credit rating', 'buys computer']"
   ]
  },
  {
   "cell_type": "code",
   "execution_count": 4,
   "metadata": {},
   "outputs": [],
   "source": [
    "def count_labels(rows):\n",
    "    count = {}  # a dictionary of label -> count.\n",
    "    for row in rows:\n",
    "        # target is in last column\n",
    "        label = row[-1]\n",
    "        if label not in count:\n",
    "            count[label] = 0\n",
    "        count[label] += 1\n",
    "    return count"
   ]
  },
  {
   "cell_type": "code",
   "execution_count": 5,
   "metadata": {},
   "outputs": [],
   "source": [
    "def is_num(value):\n",
    "    return isinstance(value, int) or isinstance(value, float)"
   ]
  },
  {
   "cell_type": "code",
   "execution_count": 6,
   "metadata": {},
   "outputs": [],
   "source": [
    "class Question:\n",
    "    def __init__(self, column, value):\n",
    "        self.column = column\n",
    "        self.value = value\n",
    "\n",
    "    def match(self, example):\n",
    "        val = example[self.column]\n",
    "        if is_num(val):\n",
    "            return val >= self.value\n",
    "        else:\n",
    "            return val == self.value\n",
    "\n",
    "    def __repr__(self):\n",
    "        condition = \"==\"\n",
    "        if is_num(self.value):\n",
    "            condition = \">=\"\n",
    "        return \"Is %s %s %s?\" % (\n",
    "            columns[self.column], condition, str(self.value))"
   ]
  },
  {
   "cell_type": "code",
   "execution_count": 7,
   "metadata": {},
   "outputs": [
    {
     "data": {
      "text/plain": [
       "Is income == high?"
      ]
     },
     "execution_count": 7,
     "metadata": {},
     "output_type": "execute_result"
    }
   ],
   "source": [
    "Question(1, 'high')"
   ]
  },
  {
   "cell_type": "code",
   "execution_count": 8,
   "metadata": {},
   "outputs": [
    {
     "name": "stdout",
     "output_type": "stream",
     "text": [
      "['<=30', 'high', 'no', 'fair', 'no']\n"
     ]
    },
    {
     "data": {
      "text/plain": [
       "True"
      ]
     },
     "execution_count": 8,
     "metadata": {},
     "output_type": "execute_result"
    }
   ],
   "source": [
    "test_rec = comp_data[0]\n",
    "print(test_rec)\n",
    "q = Question(1, 'high')\n",
    "q.match(test_rec) "
   ]
  },
  {
   "cell_type": "code",
   "execution_count": 9,
   "metadata": {},
   "outputs": [],
   "source": [
    "def partition(rows, question):\n",
    "    #For every record in the dataset, check if it answers question. If yes add to true list, else add to false list.\n",
    "    t_rows, f_rows = [], []\n",
    "    for row in rows:\n",
    "        if question.match(row):\n",
    "            t_rows.append(row)\n",
    "        else:\n",
    "            f_rows.append(row)\n",
    "    return t_rows, f_rows"
   ]
  },
  {
   "cell_type": "code",
   "execution_count": 10,
   "metadata": {},
   "outputs": [
    {
     "data": {
      "text/plain": [
       "[['>40', 'low', 'yes', 'fair', 'yes'],\n",
       " ['>40', 'low', 'yes', 'excellent', 'no'],\n",
       " ['31...40', 'low', 'yes', 'excellent', 'yes'],\n",
       " ['<=30', 'low', 'yes', 'fair', 'yes'],\n",
       " ['>40', 'medium', 'yes', 'fair', 'yes'],\n",
       " ['<=30', 'medium', 'yes', 'excellent', 'yes'],\n",
       " ['31...40', 'high', 'yes', 'fair', 'yes']]"
      ]
     },
     "execution_count": 10,
     "metadata": {},
     "output_type": "execute_result"
    }
   ],
   "source": [
    "true_rows, false_rows = partition(comp_data, Question(2, 'yes'))\n",
    "# This will contain all records of students\n",
    "true_rows"
   ]
  },
  {
   "cell_type": "code",
   "execution_count": 11,
   "metadata": {},
   "outputs": [
    {
     "data": {
      "text/plain": [
       "[['<=30', 'high', 'no', 'fair', 'no'],\n",
       " ['<=30', 'high ', 'no', 'excellent', 'no'],\n",
       " ['31...40', 'high', 'no', 'fair', 'yes'],\n",
       " ['>40', 'medium', 'no', 'fair', 'yes'],\n",
       " ['<=30', 'medium', 'no', 'fair', 'no'],\n",
       " ['31...40', 'medium', 'no', 'excellent', 'yes'],\n",
       " ['>40', 'medium', 'no', 'excellent', 'no']]"
      ]
     },
     "execution_count": 11,
     "metadata": {},
     "output_type": "execute_result"
    }
   ],
   "source": [
    "false_rows #non-students"
   ]
  },
  {
   "cell_type": "code",
   "execution_count": 12,
   "metadata": {},
   "outputs": [],
   "source": [
    "def gini(recs):\n",
    "    counts = count_labels(recs)\n",
    "    impurity = 1\n",
    "    for i in counts:\n",
    "        prob_of_i = counts[i] / float(len(recs))\n",
    "        impurity = impurity - (prob_of_i)**2\n",
    "    return impurity"
   ]
  },
  {
   "cell_type": "code",
   "execution_count": 13,
   "metadata": {},
   "outputs": [],
   "source": [
    "def info_gain(l, r, current_impurity):\n",
    "    #The impurity of the root/parent - weighted impurity of two child nodes.\n",
    "    p = float(len(l)) / (len(l) + len(r))\n",
    "    return current_impurity - p * gini(l) - (1 - p) * gini(r)"
   ]
  },
  {
   "cell_type": "code",
   "execution_count": 14,
   "metadata": {},
   "outputs": [
    {
     "data": {
      "text/plain": [
       "0.4591836734693877"
      ]
     },
     "execution_count": 14,
     "metadata": {},
     "output_type": "execute_result"
    }
   ],
   "source": [
    "current_imp = gini(comp_data)\n",
    "current_imp"
   ]
  },
  {
   "cell_type": "code",
   "execution_count": 15,
   "metadata": {},
   "outputs": [
    {
     "data": {
      "text/plain": [
       "0.030612244897959134"
      ]
     },
     "execution_count": 15,
     "metadata": {},
     "output_type": "execute_result"
    }
   ],
   "source": [
    "true_rows, false_rows = partition(comp_data, Question(3, 'fair'))\n",
    "info_gain(true_rows, false_rows, current_imp)"
   ]
  },
  {
   "cell_type": "code",
   "execution_count": 16,
   "metadata": {},
   "outputs": [],
   "source": [
    "def find_best_div(rows):\n",
    "    #Iterating over every feature and calculating the information gain to find best question.\n",
    "    max_gain = 0 \n",
    "    best_question = None  \n",
    "    current_uncertainty = gini(rows)\n",
    "    n_features = len(rows[0]) - 1  \n",
    "\n",
    "    for col in range(n_features):  \n",
    "        values = set([row[col] for row in rows])  \n",
    "\n",
    "        for val in values:  # for each value\n",
    "\n",
    "            question = Question(col, val)\n",
    "\n",
    "            true_rows, false_rows = partition(rows, question)\n",
    "\n",
    "            if len(true_rows) == 0 or len(false_rows) == 0:\n",
    "                continue\n",
    "\n",
    "            # IG from this division by question\n",
    "            gain = info_gain(true_rows, false_rows, current_uncertainty)\n",
    "\n",
    "            if gain >= max_gain:\n",
    "                max_gain, best_question = gain, question\n",
    "\n",
    "    return max_gain, best_question"
   ]
  },
  {
   "cell_type": "code",
   "execution_count": 17,
   "metadata": {},
   "outputs": [
    {
     "data": {
      "text/plain": [
       "Is age == 31...40?"
      ]
     },
     "execution_count": 17,
     "metadata": {},
     "output_type": "execute_result"
    }
   ],
   "source": [
    "max_gain, best_question = find_best_div(comp_data)\n",
    "best_question"
   ]
  },
  {
   "cell_type": "code",
   "execution_count": 18,
   "metadata": {},
   "outputs": [],
   "source": [
    "class Leaf:\n",
    "    #Dictionary of label -> frequency in data set to reach this leaf.\n",
    "    def __init__(self, rows):\n",
    "        self.predictions = count_labels(rows)"
   ]
  },
  {
   "cell_type": "code",
   "execution_count": 19,
   "metadata": {},
   "outputs": [],
   "source": [
    "class Decision_Node:\n",
    "    def __init__(self, question, true_branch, false_branch):\n",
    "        self.question = question\n",
    "        self.true_branch = true_branch\n",
    "        self.false_branch = false_branch"
   ]
  },
  {
   "cell_type": "code",
   "execution_count": 20,
   "metadata": {},
   "outputs": [],
   "source": [
    "def build_tree(rows):\n",
    "\n",
    "    #partition, calculate IG and return best question to start with.\n",
    "    gain, question = find_best_div(rows)\n",
    "\n",
    "    # Base case: no further info gain, hence leaf.\n",
    "    if gain == 0:\n",
    "        return Leaf(rows)\n",
    "\n",
    "    # Found question, partition based on it.\n",
    "    true_rows, false_rows = partition(rows, question)\n",
    "\n",
    "    # Recursively build the true branch.\n",
    "    true_branch = build_tree(true_rows)\n",
    "\n",
    "    # Recursively build the false branch.\n",
    "    false_branch = build_tree(false_rows)\n",
    "\n",
    "    return Decision_Node(question, true_branch, false_branch)"
   ]
  },
  {
   "cell_type": "code",
   "execution_count": 21,
   "metadata": {},
   "outputs": [],
   "source": [
    "def print_tree(node, spacing=\"\"):\n",
    "\n",
    "    # Base case: we've reached a leaf\n",
    "    if isinstance(node, Leaf):\n",
    "        print (spacing + \"Predict\", node.predictions)\n",
    "        return\n",
    "\n",
    "    # Print the question at this node\n",
    "    print (spacing + str(node.question))\n",
    "\n",
    "    # Call this function recursively on the true branch\n",
    "    print (spacing + '--> True:')\n",
    "    print_tree(node.true_branch, spacing + \"  \")\n",
    "\n",
    "    # Call this function recursively on the false branch\n",
    "    print (spacing + '--> False:')\n",
    "    print_tree(node.false_branch, spacing + \"  \")"
   ]
  },
  {
   "cell_type": "code",
   "execution_count": 22,
   "metadata": {},
   "outputs": [
    {
     "name": "stdout",
     "output_type": "stream",
     "text": [
      "Is age == 31...40?\n",
      "--> True:\n",
      "  Predict {'yes': 4}\n",
      "--> False:\n",
      "  Is student == no?\n",
      "  --> True:\n",
      "    Is age == <=30?\n",
      "    --> True:\n",
      "      Predict {'no': 3}\n",
      "    --> False:\n",
      "      Is credit rating == fair?\n",
      "      --> True:\n",
      "        Predict {'yes': 1}\n",
      "      --> False:\n",
      "        Predict {'no': 1}\n",
      "  --> False:\n",
      "    Is credit rating == fair?\n",
      "    --> True:\n",
      "      Predict {'yes': 3}\n",
      "    --> False:\n",
      "      Is income == medium?\n",
      "      --> True:\n",
      "        Predict {'yes': 1}\n",
      "      --> False:\n",
      "        Predict {'no': 1}\n"
     ]
    }
   ],
   "source": [
    "dec_tree = build_tree(comp_data)\n",
    "print_tree(dec_tree)"
   ]
  },
  {
   "cell_type": "code",
   "execution_count": 23,
   "metadata": {},
   "outputs": [],
   "source": [
    "def classify(rec, node):\n",
    "\n",
    "    # Base case: leaf\n",
    "    if isinstance(node, Leaf):\n",
    "        return node.predictions\n",
    "\n",
    "    # Follow the true-branch or the false-branch.\n",
    "    if node.question.match(rec):\n",
    "        return classify(rec, node.true_branch)\n",
    "    else:\n",
    "        return classify(rec, node.false_branch)"
   ]
  },
  {
   "cell_type": "code",
   "execution_count": 24,
   "metadata": {},
   "outputs": [
    {
     "data": {
      "text/plain": [
       "[['<=30', 'high', 'no', 'fair', 'no'],\n",
       " ['<=30', 'high ', 'no', 'excellent', 'no'],\n",
       " ['31...40', 'high', 'no', 'fair', 'yes'],\n",
       " ['>40', 'medium', 'no', 'fair', 'yes'],\n",
       " ['>40', 'low', 'yes', 'fair', 'yes'],\n",
       " ['>40', 'low', 'yes', 'excellent', 'no'],\n",
       " ['31...40', 'low', 'yes', 'excellent', 'yes'],\n",
       " ['<=30', 'medium', 'no', 'fair', 'no'],\n",
       " ['<=30', 'low', 'yes', 'fair', 'yes'],\n",
       " ['>40', 'medium', 'yes', 'fair', 'yes'],\n",
       " ['<=30', 'medium', 'yes', 'excellent', 'yes'],\n",
       " ['31...40', 'medium', 'no', 'excellent', 'yes'],\n",
       " ['31...40', 'high', 'yes', 'fair', 'yes'],\n",
       " ['>40', 'medium', 'no', 'excellent', 'no']]"
      ]
     },
     "execution_count": 24,
     "metadata": {},
     "output_type": "execute_result"
    }
   ],
   "source": [
    "comp_data"
   ]
  },
  {
   "cell_type": "code",
   "execution_count": 25,
   "metadata": {},
   "outputs": [
    {
     "data": {
      "text/plain": [
       "['no']"
      ]
     },
     "execution_count": 25,
     "metadata": {},
     "output_type": "execute_result"
    }
   ],
   "source": [
    "d = classify(comp_data[7], dec_tree)\n",
    "list(d.keys())"
   ]
  },
  {
   "cell_type": "code",
   "execution_count": 26,
   "metadata": {},
   "outputs": [],
   "source": [
    "#used for pretty printing leaf values\n",
    "def p_leaf(c):\n",
    "    t = sum(c.values()) * 1.0\n",
    "    prob = {}\n",
    "    for l in c.keys():\n",
    "        prob[l] = str(int(c[l] / t * 100)) + \"%\"\n",
    "    return prob"
   ]
  },
  {
   "cell_type": "code",
   "execution_count": 27,
   "metadata": {},
   "outputs": [
    {
     "name": "stdout",
     "output_type": "stream",
     "text": [
      "Real: no, Predicted: {'no': '100%'}\n",
      "Real: yes, Predicted: {'yes': '100%'}\n",
      "Real: no, Predicted: {'yes': '100%'}\n",
      "Real: no, Predicted: {'no': '100%'}\n",
      "Real: yes, Predicted: {'yes': '100%'}\n"
     ]
    }
   ],
   "source": [
    "test_data = [['<=30', 'high', 'no', 'fair', 'no'],['31...40', 'medium', 'no', 'fair', 'yes'],['>40', 'medium', 'yes', 'fair', 'no'],['<=30', 'low', 'yes', 'excellent', 'no'],['31...40', 'medium', 'yes', 'excellent', 'yes']]\n",
    "for rec in test_data:\n",
    "    print (\"Real: %s, Predicted: %s\" %\n",
    "           (rec[-1], p_leaf(classify(rec, dec_tree))))"
   ]
  },
  {
   "cell_type": "code",
   "execution_count": 28,
   "metadata": {},
   "outputs": [
    {
     "name": "stdout",
     "output_type": "stream",
     "text": [
      "Accuracy = 0.8\n"
     ]
    }
   ],
   "source": [
    "total = len(test_data)\n",
    "positive = 0\n",
    "for rec in test_data:\n",
    "    d = classify(rec, dec_tree)\n",
    "    l = list(d.keys())\n",
    "    if(rec[-1]==l[0]):\n",
    "        positive += 1\n",
    "accuracy = positive/total\n",
    "print('Accuracy =',accuracy)"
   ]
  },
  {
   "cell_type": "code",
   "execution_count": null,
   "metadata": {},
   "outputs": [],
   "source": []
  },
  {
   "cell_type": "code",
   "execution_count": null,
   "metadata": {},
   "outputs": [],
   "source": []
  }
 ],
 "metadata": {
  "kernelspec": {
   "display_name": "Python 3",
   "language": "python",
   "name": "python3"
  },
  "language_info": {
   "codemirror_mode": {
    "name": "ipython",
    "version": 3
   },
   "file_extension": ".py",
   "mimetype": "text/x-python",
   "name": "python",
   "nbconvert_exporter": "python",
   "pygments_lexer": "ipython3",
   "version": "3.6.6"
  }
 },
 "nbformat": 4,
 "nbformat_minor": 2
}
