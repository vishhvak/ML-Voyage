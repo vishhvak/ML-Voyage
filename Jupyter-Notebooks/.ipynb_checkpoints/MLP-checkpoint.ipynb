{
 "cells": [
  {
   "cell_type": "code",
   "execution_count": 1,
   "metadata": {},
   "outputs": [],
   "source": [
    "import numpy as np\n",
    "import pandas as pd\n",
    "from sklearn.model_selection import train_test_split\n",
    "from sklearn.metrics import accuracy_score\n",
    "from sklearn.preprocessing import LabelEncoder"
   ]
  },
  {
   "cell_type": "code",
   "execution_count": 2,
   "metadata": {},
   "outputs": [
    {
     "ename": "FileNotFoundError",
     "evalue": "File b'banknote.csv' does not exist",
     "output_type": "error",
     "traceback": [
      "\u001b[0;31m---------------------------------------------------------------------------\u001b[0m",
      "\u001b[0;31mFileNotFoundError\u001b[0m                         Traceback (most recent call last)",
      "\u001b[0;32m<ipython-input-2-240e804a36f7>\u001b[0m in \u001b[0;36m<module>\u001b[0;34m()\u001b[0m\n\u001b[0;32m----> 1\u001b[0;31m \u001b[0mbanknote_data\u001b[0m \u001b[0;34m=\u001b[0m \u001b[0mpd\u001b[0m\u001b[0;34m.\u001b[0m\u001b[0mread_csv\u001b[0m\u001b[0;34m(\u001b[0m\u001b[0;34m\"banknote.csv\"\u001b[0m\u001b[0;34m,\u001b[0m\u001b[0msep\u001b[0m\u001b[0;34m=\u001b[0m\u001b[0;34m','\u001b[0m\u001b[0;34m)\u001b[0m\u001b[0;34m\u001b[0m\u001b[0m\n\u001b[0m",
      "\u001b[0;32m/Library/Frameworks/Python.framework/Versions/3.6/lib/python3.6/site-packages/pandas/io/parsers.py\u001b[0m in \u001b[0;36mparser_f\u001b[0;34m(filepath_or_buffer, sep, delimiter, header, names, index_col, usecols, squeeze, prefix, mangle_dupe_cols, dtype, engine, converters, true_values, false_values, skipinitialspace, skiprows, nrows, na_values, keep_default_na, na_filter, verbose, skip_blank_lines, parse_dates, infer_datetime_format, keep_date_col, date_parser, dayfirst, iterator, chunksize, compression, thousands, decimal, lineterminator, quotechar, quoting, escapechar, comment, encoding, dialect, tupleize_cols, error_bad_lines, warn_bad_lines, skipfooter, doublequote, delim_whitespace, low_memory, memory_map, float_precision)\u001b[0m\n\u001b[1;32m    676\u001b[0m                     skip_blank_lines=skip_blank_lines)\n\u001b[1;32m    677\u001b[0m \u001b[0;34m\u001b[0m\u001b[0m\n\u001b[0;32m--> 678\u001b[0;31m         \u001b[0;32mreturn\u001b[0m \u001b[0m_read\u001b[0m\u001b[0;34m(\u001b[0m\u001b[0mfilepath_or_buffer\u001b[0m\u001b[0;34m,\u001b[0m \u001b[0mkwds\u001b[0m\u001b[0;34m)\u001b[0m\u001b[0;34m\u001b[0m\u001b[0m\n\u001b[0m\u001b[1;32m    679\u001b[0m \u001b[0;34m\u001b[0m\u001b[0m\n\u001b[1;32m    680\u001b[0m     \u001b[0mparser_f\u001b[0m\u001b[0;34m.\u001b[0m\u001b[0m__name__\u001b[0m \u001b[0;34m=\u001b[0m \u001b[0mname\u001b[0m\u001b[0;34m\u001b[0m\u001b[0m\n",
      "\u001b[0;32m/Library/Frameworks/Python.framework/Versions/3.6/lib/python3.6/site-packages/pandas/io/parsers.py\u001b[0m in \u001b[0;36m_read\u001b[0;34m(filepath_or_buffer, kwds)\u001b[0m\n\u001b[1;32m    438\u001b[0m \u001b[0;34m\u001b[0m\u001b[0m\n\u001b[1;32m    439\u001b[0m     \u001b[0;31m# Create the parser.\u001b[0m\u001b[0;34m\u001b[0m\u001b[0;34m\u001b[0m\u001b[0m\n\u001b[0;32m--> 440\u001b[0;31m     \u001b[0mparser\u001b[0m \u001b[0;34m=\u001b[0m \u001b[0mTextFileReader\u001b[0m\u001b[0;34m(\u001b[0m\u001b[0mfilepath_or_buffer\u001b[0m\u001b[0;34m,\u001b[0m \u001b[0;34m**\u001b[0m\u001b[0mkwds\u001b[0m\u001b[0;34m)\u001b[0m\u001b[0;34m\u001b[0m\u001b[0m\n\u001b[0m\u001b[1;32m    441\u001b[0m \u001b[0;34m\u001b[0m\u001b[0m\n\u001b[1;32m    442\u001b[0m     \u001b[0;32mif\u001b[0m \u001b[0mchunksize\u001b[0m \u001b[0;32mor\u001b[0m \u001b[0miterator\u001b[0m\u001b[0;34m:\u001b[0m\u001b[0;34m\u001b[0m\u001b[0m\n",
      "\u001b[0;32m/Library/Frameworks/Python.framework/Versions/3.6/lib/python3.6/site-packages/pandas/io/parsers.py\u001b[0m in \u001b[0;36m__init__\u001b[0;34m(self, f, engine, **kwds)\u001b[0m\n\u001b[1;32m    785\u001b[0m             \u001b[0mself\u001b[0m\u001b[0;34m.\u001b[0m\u001b[0moptions\u001b[0m\u001b[0;34m[\u001b[0m\u001b[0;34m'has_index_names'\u001b[0m\u001b[0;34m]\u001b[0m \u001b[0;34m=\u001b[0m \u001b[0mkwds\u001b[0m\u001b[0;34m[\u001b[0m\u001b[0;34m'has_index_names'\u001b[0m\u001b[0;34m]\u001b[0m\u001b[0;34m\u001b[0m\u001b[0m\n\u001b[1;32m    786\u001b[0m \u001b[0;34m\u001b[0m\u001b[0m\n\u001b[0;32m--> 787\u001b[0;31m         \u001b[0mself\u001b[0m\u001b[0;34m.\u001b[0m\u001b[0m_make_engine\u001b[0m\u001b[0;34m(\u001b[0m\u001b[0mself\u001b[0m\u001b[0;34m.\u001b[0m\u001b[0mengine\u001b[0m\u001b[0;34m)\u001b[0m\u001b[0;34m\u001b[0m\u001b[0m\n\u001b[0m\u001b[1;32m    788\u001b[0m \u001b[0;34m\u001b[0m\u001b[0m\n\u001b[1;32m    789\u001b[0m     \u001b[0;32mdef\u001b[0m \u001b[0mclose\u001b[0m\u001b[0;34m(\u001b[0m\u001b[0mself\u001b[0m\u001b[0;34m)\u001b[0m\u001b[0;34m:\u001b[0m\u001b[0;34m\u001b[0m\u001b[0m\n",
      "\u001b[0;32m/Library/Frameworks/Python.framework/Versions/3.6/lib/python3.6/site-packages/pandas/io/parsers.py\u001b[0m in \u001b[0;36m_make_engine\u001b[0;34m(self, engine)\u001b[0m\n\u001b[1;32m   1012\u001b[0m     \u001b[0;32mdef\u001b[0m \u001b[0m_make_engine\u001b[0m\u001b[0;34m(\u001b[0m\u001b[0mself\u001b[0m\u001b[0;34m,\u001b[0m \u001b[0mengine\u001b[0m\u001b[0;34m=\u001b[0m\u001b[0;34m'c'\u001b[0m\u001b[0;34m)\u001b[0m\u001b[0;34m:\u001b[0m\u001b[0;34m\u001b[0m\u001b[0m\n\u001b[1;32m   1013\u001b[0m         \u001b[0;32mif\u001b[0m \u001b[0mengine\u001b[0m \u001b[0;34m==\u001b[0m \u001b[0;34m'c'\u001b[0m\u001b[0;34m:\u001b[0m\u001b[0;34m\u001b[0m\u001b[0m\n\u001b[0;32m-> 1014\u001b[0;31m             \u001b[0mself\u001b[0m\u001b[0;34m.\u001b[0m\u001b[0m_engine\u001b[0m \u001b[0;34m=\u001b[0m \u001b[0mCParserWrapper\u001b[0m\u001b[0;34m(\u001b[0m\u001b[0mself\u001b[0m\u001b[0;34m.\u001b[0m\u001b[0mf\u001b[0m\u001b[0;34m,\u001b[0m \u001b[0;34m**\u001b[0m\u001b[0mself\u001b[0m\u001b[0;34m.\u001b[0m\u001b[0moptions\u001b[0m\u001b[0;34m)\u001b[0m\u001b[0;34m\u001b[0m\u001b[0m\n\u001b[0m\u001b[1;32m   1015\u001b[0m         \u001b[0;32melse\u001b[0m\u001b[0;34m:\u001b[0m\u001b[0;34m\u001b[0m\u001b[0m\n\u001b[1;32m   1016\u001b[0m             \u001b[0;32mif\u001b[0m \u001b[0mengine\u001b[0m \u001b[0;34m==\u001b[0m \u001b[0;34m'python'\u001b[0m\u001b[0;34m:\u001b[0m\u001b[0;34m\u001b[0m\u001b[0m\n",
      "\u001b[0;32m/Library/Frameworks/Python.framework/Versions/3.6/lib/python3.6/site-packages/pandas/io/parsers.py\u001b[0m in \u001b[0;36m__init__\u001b[0;34m(self, src, **kwds)\u001b[0m\n\u001b[1;32m   1706\u001b[0m         \u001b[0mkwds\u001b[0m\u001b[0;34m[\u001b[0m\u001b[0;34m'usecols'\u001b[0m\u001b[0;34m]\u001b[0m \u001b[0;34m=\u001b[0m \u001b[0mself\u001b[0m\u001b[0;34m.\u001b[0m\u001b[0musecols\u001b[0m\u001b[0;34m\u001b[0m\u001b[0m\n\u001b[1;32m   1707\u001b[0m \u001b[0;34m\u001b[0m\u001b[0m\n\u001b[0;32m-> 1708\u001b[0;31m         \u001b[0mself\u001b[0m\u001b[0;34m.\u001b[0m\u001b[0m_reader\u001b[0m \u001b[0;34m=\u001b[0m \u001b[0mparsers\u001b[0m\u001b[0;34m.\u001b[0m\u001b[0mTextReader\u001b[0m\u001b[0;34m(\u001b[0m\u001b[0msrc\u001b[0m\u001b[0;34m,\u001b[0m \u001b[0;34m**\u001b[0m\u001b[0mkwds\u001b[0m\u001b[0;34m)\u001b[0m\u001b[0;34m\u001b[0m\u001b[0m\n\u001b[0m\u001b[1;32m   1709\u001b[0m \u001b[0;34m\u001b[0m\u001b[0m\n\u001b[1;32m   1710\u001b[0m         \u001b[0mpassed_names\u001b[0m \u001b[0;34m=\u001b[0m \u001b[0mself\u001b[0m\u001b[0;34m.\u001b[0m\u001b[0mnames\u001b[0m \u001b[0;32mis\u001b[0m \u001b[0;32mNone\u001b[0m\u001b[0;34m\u001b[0m\u001b[0m\n",
      "\u001b[0;32mpandas/_libs/parsers.pyx\u001b[0m in \u001b[0;36mpandas._libs.parsers.TextReader.__cinit__\u001b[0;34m()\u001b[0m\n",
      "\u001b[0;32mpandas/_libs/parsers.pyx\u001b[0m in \u001b[0;36mpandas._libs.parsers.TextReader._setup_parser_source\u001b[0;34m()\u001b[0m\n",
      "\u001b[0;31mFileNotFoundError\u001b[0m: File b'banknote.csv' does not exist"
     ]
    }
   ],
   "source": [
    "banknote_data = pd.read_csv(\"banknote.csv\",sep=',')"
   ]
  },
  {
   "cell_type": "code",
   "execution_count": null,
   "metadata": {},
   "outputs": [],
   "source": [
    "banknote_data.head()"
   ]
  },
  {
   "cell_type": "code",
   "execution_count": null,
   "metadata": {},
   "outputs": [],
   "source": [
    "banknote_data= banknote_data.round()"
   ]
  },
  {
   "cell_type": "code",
   "execution_count": null,
   "metadata": {},
   "outputs": [],
   "source": [
    "banknote_data.head()"
   ]
  },
  {
   "cell_type": "code",
   "execution_count": 3,
   "metadata": {},
   "outputs": [
    {
     "ename": "NameError",
     "evalue": "name 'banknote_data' is not defined",
     "output_type": "error",
     "traceback": [
      "\u001b[0;31m---------------------------------------------------------------------------\u001b[0m",
      "\u001b[0;31mNameError\u001b[0m                                 Traceback (most recent call last)",
      "\u001b[0;32m<ipython-input-3-1ba0209026af>\u001b[0m in \u001b[0;36m<module>\u001b[0;34m()\u001b[0m\n\u001b[0;32m----> 1\u001b[0;31m \u001b[0mX\u001b[0m \u001b[0;34m=\u001b[0m \u001b[0mbanknote_data\u001b[0m\u001b[0;34m.\u001b[0m\u001b[0mvalues\u001b[0m\u001b[0;34m[\u001b[0m\u001b[0;34m:\u001b[0m\u001b[0;34m,\u001b[0m\u001b[0;36m0\u001b[0m\u001b[0;34m:\u001b[0m\u001b[0;36m4\u001b[0m\u001b[0;34m]\u001b[0m\u001b[0;34m\u001b[0m\u001b[0m\n\u001b[0m\u001b[1;32m      2\u001b[0m \u001b[0mY\u001b[0m \u001b[0;34m=\u001b[0m \u001b[0mbanknote_data\u001b[0m\u001b[0;34m.\u001b[0m\u001b[0mvalues\u001b[0m\u001b[0;34m[\u001b[0m\u001b[0;34m:\u001b[0m\u001b[0;34m,\u001b[0m\u001b[0;36m4\u001b[0m\u001b[0;34m]\u001b[0m\u001b[0;34m\u001b[0m\u001b[0m\n\u001b[1;32m      3\u001b[0m \u001b[0mX_train\u001b[0m\u001b[0;34m,\u001b[0m \u001b[0mX_test\u001b[0m\u001b[0;34m,\u001b[0m \u001b[0mY_train\u001b[0m\u001b[0;34m,\u001b[0m \u001b[0mY_test\u001b[0m \u001b[0;34m=\u001b[0m \u001b[0mtrain_test_split\u001b[0m\u001b[0;34m(\u001b[0m\u001b[0mX\u001b[0m\u001b[0;34m,\u001b[0m\u001b[0mY\u001b[0m\u001b[0;34m,\u001b[0m\u001b[0mtest_size\u001b[0m \u001b[0;34m=\u001b[0m \u001b[0;36m0.2\u001b[0m\u001b[0;34m,\u001b[0m \u001b[0mrandom_state\u001b[0m \u001b[0;34m=\u001b[0m \u001b[0;36m100\u001b[0m\u001b[0;34m)\u001b[0m\u001b[0;34m\u001b[0m\u001b[0m\n",
      "\u001b[0;31mNameError\u001b[0m: name 'banknote_data' is not defined"
     ]
    }
   ],
   "source": [
    "X = banknote_data.values[:,0:4]\n",
    "Y = banknote_data.values[:,4]\n",
    "X_train, X_test, Y_train, Y_test = train_test_split(X,Y,test_size = 0.2, random_state = 100)"
   ]
  },
  {
   "cell_type": "code",
   "execution_count": 4,
   "metadata": {},
   "outputs": [],
   "source": [
    "from sklearn.neural_network import MLPClassifier"
   ]
  },
  {
   "cell_type": "code",
   "execution_count": 5,
   "metadata": {},
   "outputs": [],
   "source": [
    "mlp = MLPClassifier(hidden_layer_sizes=(4),max_iter=50)"
   ]
  },
  {
   "cell_type": "code",
   "execution_count": 6,
   "metadata": {},
   "outputs": [
    {
     "ename": "NameError",
     "evalue": "name 'X_train' is not defined",
     "output_type": "error",
     "traceback": [
      "\u001b[0;31m---------------------------------------------------------------------------\u001b[0m",
      "\u001b[0;31mNameError\u001b[0m                                 Traceback (most recent call last)",
      "\u001b[0;32m<ipython-input-6-a0ff8faaa510>\u001b[0m in \u001b[0;36m<module>\u001b[0;34m()\u001b[0m\n\u001b[0;32m----> 1\u001b[0;31m \u001b[0mmlp\u001b[0m\u001b[0;34m.\u001b[0m\u001b[0mfit\u001b[0m\u001b[0;34m(\u001b[0m\u001b[0mX_train\u001b[0m\u001b[0;34m,\u001b[0m\u001b[0mY_train\u001b[0m\u001b[0;34m)\u001b[0m\u001b[0;34m\u001b[0m\u001b[0m\n\u001b[0m",
      "\u001b[0;31mNameError\u001b[0m: name 'X_train' is not defined"
     ]
    }
   ],
   "source": [
    "mlp.fit(X_train,Y_train)"
   ]
  },
  {
   "cell_type": "code",
   "execution_count": 10,
   "metadata": {},
   "outputs": [],
   "source": [
    "predictions = mlp.predict(X_test)"
   ]
  },
  {
   "cell_type": "code",
   "execution_count": 11,
   "metadata": {},
   "outputs": [],
   "source": [
    "from sklearn.metrics import classification_report, confusion_matrix"
   ]
  },
  {
   "cell_type": "code",
   "execution_count": 12,
   "metadata": {},
   "outputs": [
    {
     "data": {
      "text/plain": [
       "array([1., 0., 1., 0., 0., 0., 1., 0., 1., 0., 0., 1., 1., 0., 0., 0., 0.,\n",
       "       0., 0., 0., 1., 1., 0., 1., 1., 0., 0., 1., 1., 0., 1., 0., 1., 0.,\n",
       "       0., 0., 0., 1., 1., 1., 0., 0., 0., 0., 0., 0., 1., 0., 0., 0., 0.,\n",
       "       1., 0., 1., 1., 1., 0., 0., 0., 0., 1., 0., 0., 1., 1., 0., 0., 1.,\n",
       "       1., 0., 0., 0., 0., 0., 0., 0., 1., 1., 0., 0., 0., 0., 1., 1., 0.,\n",
       "       0., 0., 0., 0., 0., 1., 0., 0., 1., 0., 0., 0., 0., 0., 0., 0., 1.,\n",
       "       0., 0., 0., 1., 0., 1., 0., 1., 1., 1., 1., 0., 0., 0., 0., 1., 0.,\n",
       "       0., 1., 0., 1., 0., 0., 0., 1., 1., 1., 0., 0., 1., 0., 0., 1., 0.,\n",
       "       0., 0., 1., 0., 0., 0., 0., 0., 0., 0., 1., 0., 0., 1., 1., 0., 1.,\n",
       "       0., 1., 1., 0., 0., 0., 0., 1., 1., 0., 1., 1., 1., 0., 0., 1., 1.,\n",
       "       0., 0., 1., 0., 1., 0., 0., 0., 1., 0., 0., 0., 0., 1., 0., 1., 0.,\n",
       "       0., 1., 1., 0., 0., 0., 1., 1., 1., 1., 0., 0., 1., 1., 1., 0., 1.,\n",
       "       0., 1., 1., 0., 0., 0., 0., 0., 0., 0., 1., 0., 0., 0., 1., 1., 1.,\n",
       "       0., 0., 1., 0., 1., 0., 1., 1., 0., 0., 0., 0., 0., 0., 1., 0., 1.,\n",
       "       0., 0., 0., 0., 1., 1., 0., 0., 1., 1., 1., 1., 1., 0., 0., 0., 0.,\n",
       "       0., 0., 0., 0., 0., 0., 1., 1., 0., 0., 1., 0., 0., 0., 0., 0., 0.,\n",
       "       0., 0., 1.])"
      ]
     },
     "execution_count": 12,
     "metadata": {},
     "output_type": "execute_result"
    }
   ],
   "source": [
    "predictions"
   ]
  },
  {
   "cell_type": "code",
   "execution_count": 13,
   "metadata": {},
   "outputs": [
    {
     "name": "stdout",
     "output_type": "stream",
     "text": [
      "100%\n"
     ]
    }
   ],
   "source": [
    "if predictions.all() == Y_test.all():\n",
    "    print(\"100%\")"
   ]
  },
  {
   "cell_type": "code",
   "execution_count": 14,
   "metadata": {},
   "outputs": [
    {
     "name": "stdout",
     "output_type": "stream",
     "text": [
      "[[162   1]\n",
      " [ 13  99]]\n"
     ]
    }
   ],
   "source": [
    "print(confusion_matrix(Y_test,predictions))"
   ]
  },
  {
   "cell_type": "code",
   "execution_count": 15,
   "metadata": {},
   "outputs": [
    {
     "name": "stdout",
     "output_type": "stream",
     "text": [
      "             precision    recall  f1-score   support\n",
      "\n",
      "          0       0.93      0.99      0.96       163\n",
      "          1       0.99      0.88      0.93       112\n",
      "\n",
      "avg / total       0.95      0.95      0.95       275\n",
      "\n"
     ]
    }
   ],
   "source": [
    "print(classification_report(Y_test,predictions,target_names=['0','1']))"
   ]
  },
  {
   "cell_type": "code",
   "execution_count": 16,
   "metadata": {},
   "outputs": [
    {
     "name": "stdout",
     "output_type": "stream",
     "text": [
      "[[0.22644972 0.77355028]\n",
      " [0.96307552 0.03692448]\n",
      " [0.39257628 0.60742372]\n",
      " [0.97553429 0.02446571]\n",
      " [0.94340945 0.05659055]\n",
      " [0.97985445 0.02014555]\n",
      " [0.1455082  0.8544918 ]\n",
      " [0.98808532 0.01191468]\n",
      " [0.17882844 0.82117156]\n",
      " [0.96537345 0.03462655]\n",
      " [0.97495651 0.02504349]\n",
      " [0.27862288 0.72137712]\n",
      " [0.13251304 0.86748696]\n",
      " [0.90947938 0.09052062]\n",
      " [0.94714627 0.05285373]\n",
      " [0.98932624 0.01067376]\n",
      " [0.90554827 0.09445173]\n",
      " [0.99427276 0.00572724]\n",
      " [0.96326667 0.03673333]\n",
      " [0.86918795 0.13081205]\n",
      " [0.28951204 0.71048796]\n",
      " [0.27962757 0.72037243]\n",
      " [0.9811669  0.0188331 ]\n",
      " [0.35737261 0.64262739]\n",
      " [0.2737766  0.7262234 ]\n",
      " [0.53348029 0.46651971]\n",
      " [0.77976782 0.22023218]\n",
      " [0.25978794 0.74021206]\n",
      " [0.27625965 0.72374035]\n",
      " [0.84774974 0.15225026]\n",
      " [0.2737766  0.7262234 ]\n",
      " [0.99039945 0.00960055]\n",
      " [0.20178888 0.79821112]\n",
      " [0.98023739 0.01976261]\n",
      " [0.89365864 0.10634136]\n",
      " [0.90310065 0.09689935]\n",
      " [0.91508923 0.08491077]\n",
      " [0.07131557 0.92868443]\n",
      " [0.23766306 0.76233694]\n",
      " [0.49135525 0.50864475]\n",
      " [0.97729414 0.02270586]\n",
      " [0.9806762  0.0193238 ]\n",
      " [0.73356996 0.26643004]\n",
      " [0.969588   0.030412  ]\n",
      " [0.9591808  0.0408192 ]\n",
      " [0.80286988 0.19713012]\n",
      " [0.11664084 0.88335916]\n",
      " [0.97058782 0.02941218]\n",
      " [0.97590022 0.02409978]\n",
      " [0.64053164 0.35946836]\n",
      " [0.69714386 0.30285614]\n",
      " [0.13251304 0.86748696]\n",
      " [0.95068984 0.04931016]\n",
      " [0.15552931 0.84447069]\n",
      " [0.05345088 0.94654912]\n",
      " [0.49135525 0.50864475]\n",
      " [0.98561438 0.01438562]\n",
      " [0.87410342 0.12589658]\n",
      " [0.95011008 0.04988992]\n",
      " [0.96971101 0.03028899]\n",
      " [0.12974028 0.87025972]\n",
      " [0.94959352 0.05040648]\n",
      " [0.83898078 0.16101922]\n",
      " [0.14644315 0.85355685]\n",
      " [0.46061095 0.53938905]\n",
      " [0.94891446 0.05108554]\n",
      " [0.7107015  0.2892985 ]\n",
      " [0.20913299 0.79086701]\n",
      " [0.15873996 0.84126004]\n",
      " [0.77479495 0.22520505]\n",
      " [0.9524458  0.0475542 ]\n",
      " [0.95514429 0.04485571]\n",
      " [0.96149498 0.03850502]\n",
      " [0.98210937 0.01789063]\n",
      " [0.89506772 0.10493228]\n",
      " [0.93092578 0.06907422]\n",
      " [0.16036184 0.83963816]\n",
      " [0.00494287 0.99505713]\n",
      " [0.98932624 0.01067376]\n",
      " [0.94469196 0.05530804]\n",
      " [0.97888645 0.02111355]\n",
      " [0.53348029 0.46651971]\n",
      " [0.1134221  0.8865779 ]\n",
      " [0.02175437 0.97824563]\n",
      " [0.63540165 0.36459835]\n",
      " [0.98645424 0.01354576]\n",
      " [0.70460533 0.29539467]\n",
      " [0.9806762  0.0193238 ]\n",
      " [0.95929448 0.04070552]\n",
      " [0.96449129 0.03550871]\n",
      " [0.14644315 0.85355685]\n",
      " [0.98645424 0.01354576]\n",
      " [0.63540165 0.36459835]\n",
      " [0.13477366 0.86522634]\n",
      " [0.74726631 0.25273369]\n",
      " [0.95278242 0.04721758]\n",
      " [0.82987802 0.17012198]\n",
      " [0.97553429 0.02446571]\n",
      " [0.97660401 0.02339599]\n",
      " [0.94675955 0.05324045]\n",
      " [0.82987802 0.17012198]\n",
      " [0.16423601 0.83576399]\n",
      " [0.96307552 0.03692448]\n",
      " [0.74884038 0.25115962]\n",
      " [0.91508923 0.08491077]\n",
      " [0.05600858 0.94399142]\n",
      " [0.95514429 0.04485571]\n",
      " [0.43634575 0.56365425]\n",
      " [0.96536538 0.03463462]\n",
      " [0.05862001 0.94137999]\n",
      " [0.15552931 0.84447069]\n",
      " [0.2381972  0.7618028 ]\n",
      " [0.17911021 0.82088979]\n",
      " [0.93906847 0.06093153]\n",
      " [0.99164129 0.00835871]\n",
      " [0.62302393 0.37697607]\n",
      " [0.67170409 0.32829591]\n",
      " [0.12102189 0.87897811]\n",
      " [0.74344005 0.25655995]\n",
      " [0.95371087 0.04628913]\n",
      " [0.34023143 0.65976857]\n",
      " [0.9725292  0.0274708 ]\n",
      " [0.07505955 0.92494045]\n",
      " [0.99501491 0.00498509]\n",
      " [0.97344342 0.02655658]\n",
      " [0.97495651 0.02504349]\n",
      " [0.49135525 0.50864475]\n",
      " [0.12974028 0.87025972]\n",
      " [0.36568933 0.63431067]\n",
      " [0.96700614 0.03299386]\n",
      " [0.83258429 0.16741571]\n",
      " [0.06937168 0.93062832]\n",
      " [0.98138524 0.01861476]\n",
      " [0.91969383 0.08030617]\n",
      " [0.21035587 0.78964413]\n",
      " [0.98502995 0.01497005]\n",
      " [0.979861   0.020139  ]\n",
      " [0.96909909 0.03090091]\n",
      " [0.08846942 0.91153058]\n",
      " [0.98430664 0.01569336]\n",
      " [0.94829787 0.05170213]\n",
      " [0.83258429 0.16741571]\n",
      " [0.8971425  0.1028575 ]\n",
      " [0.80951866 0.19048134]\n",
      " [0.98502995 0.01497005]\n",
      " [0.94675955 0.05324045]\n",
      " [0.27278498 0.72721502]\n",
      " [0.98471962 0.01528038]\n",
      " [0.85923572 0.14076428]\n",
      " [0.05862001 0.94137999]\n",
      " [0.1455082  0.8544918 ]\n",
      " [0.69028996 0.30971004]\n",
      " [0.15124999 0.84875001]\n",
      " [0.97469018 0.02530982]\n",
      " [0.23847341 0.76152659]\n",
      " [0.01618018 0.98381982]\n",
      " [0.96890538 0.03109462]\n",
      " [0.90112702 0.09887298]\n",
      " [0.89385509 0.10614491]\n",
      " [0.97350222 0.02649778]\n",
      " [0.31351032 0.68648968]\n",
      " [0.36568933 0.63431067]\n",
      " [0.98394892 0.01605108]\n",
      " [0.04918721 0.95081279]\n",
      " [0.15132099 0.84867901]\n",
      " [0.08540502 0.91459498]\n",
      " [0.98593551 0.01406449]\n",
      " [0.89253946 0.10746054]\n",
      " [0.05371147 0.94628853]\n",
      " [0.2737766  0.7262234 ]\n",
      " [0.98295237 0.01704763]\n",
      " [0.96549428 0.03450572]\n",
      " [0.02228344 0.97771656]\n",
      " [0.97607498 0.02392502]\n",
      " [0.03077023 0.96922977]\n",
      " [0.9924817  0.0075183 ]\n",
      " [0.98023739 0.01976261]\n",
      " [0.96890538 0.03109462]\n",
      " [0.23847341 0.76152659]\n",
      " [0.69028996 0.30971004]\n",
      " [0.83522144 0.16477856]\n",
      " [0.98256433 0.01743567]\n",
      " [0.80433402 0.19566598]\n",
      " [0.12632019 0.87367981]\n",
      " [0.76330082 0.23669918]\n",
      " [0.24083465 0.75916535]\n",
      " [0.87341025 0.12658975]\n",
      " [0.89416964 0.10583036]\n",
      " [0.29491839 0.70508161]\n",
      " [0.09450467 0.90549533]\n",
      " [0.94340945 0.05659055]\n",
      " [0.8971425  0.1028575 ]\n",
      " [0.94598798 0.05401202]\n",
      " [0.11540037 0.88459963]\n",
      " [0.21075225 0.78924775]\n",
      " [0.21400955 0.78599045]\n",
      " [0.06814441 0.93185559]\n",
      " [0.979861   0.020139  ]\n",
      " [0.97840789 0.02159211]\n",
      " [0.2001325  0.7998675 ]\n",
      " [0.24044929 0.75955071]\n",
      " [0.14728942 0.85271058]\n",
      " [0.95518845 0.04481155]\n",
      " [0.28951204 0.71048796]\n",
      " [0.98610248 0.01389752]\n",
      " [0.00926092 0.99073908]\n",
      " [0.03054976 0.96945024]\n",
      " [0.95981539 0.04018461]\n",
      " [0.58039838 0.41960162]\n",
      " [0.86918795 0.13081205]\n",
      " [0.94624277 0.05375723]\n",
      " [0.92450599 0.07549401]\n",
      " [0.97364957 0.02635043]\n",
      " [0.94959352 0.05040648]\n",
      " [0.34570292 0.65429708]\n",
      " [0.87692641 0.12307359]\n",
      " [0.97590412 0.02409588]\n",
      " [0.83397821 0.16602179]\n",
      " [0.34023143 0.65976857]\n",
      " [0.13317445 0.86682555]\n",
      " [0.00839622 0.99160378]\n",
      " [0.98956539 0.01043461]\n",
      " [0.60079322 0.39920678]\n",
      " [0.01317271 0.98682729]\n",
      " [0.70654746 0.29345254]\n",
      " [0.23847341 0.76152659]\n",
      " [0.92373327 0.07626673]\n",
      " [0.07629797 0.92370203]\n",
      " [0.04261854 0.95738146]\n",
      " [0.99168584 0.00831416]\n",
      " [0.90581775 0.09418225]\n",
      " [0.98106707 0.01893293]\n",
      " [0.83258429 0.16741571]\n",
      " [0.98230888 0.01769112]\n",
      " [0.92841885 0.07158115]\n",
      " [0.21400955 0.78599045]\n",
      " [0.57524657 0.42475343]\n",
      " [0.1346244  0.8653756 ]\n",
      " [0.87987872 0.12012128]\n",
      " [0.67425827 0.32574173]\n",
      " [0.93167971 0.06832029]\n",
      " [0.9725292  0.0274708 ]\n",
      " [0.01196676 0.98803324]\n",
      " [0.49135525 0.50864475]\n",
      " [0.94959352 0.05040648]\n",
      " [0.76148209 0.23851791]\n",
      " [0.1957162  0.8042838 ]\n",
      " [0.465787   0.534213  ]\n",
      " [0.03603125 0.96396875]\n",
      " [0.04758794 0.95241206]\n",
      " [0.02608549 0.97391451]\n",
      " [0.57524657 0.42475343]\n",
      " [0.85221582 0.14778418]\n",
      " [0.95518845 0.04481155]\n",
      " [0.86453864 0.13546136]\n",
      " [0.97469018 0.02530982]\n",
      " [0.82987802 0.17012198]\n",
      " [0.92373327 0.07626673]\n",
      " [0.97594882 0.02405118]\n",
      " [0.95068984 0.04931016]\n",
      " [0.960091   0.039909  ]\n",
      " [0.05345088 0.94654912]\n",
      " [0.1957162  0.8042838 ]\n",
      " [0.90950012 0.09049988]\n",
      " [0.9936032  0.0063968 ]\n",
      " [0.29105711 0.70894289]\n",
      " [0.99272193 0.00727807]\n",
      " [0.98394892 0.01605108]\n",
      " [0.9806762  0.0193238 ]\n",
      " [0.83503296 0.16496704]\n",
      " [0.98063696 0.01936304]\n",
      " [0.70591782 0.29408218]\n",
      " [0.9838636  0.0161364 ]\n",
      " [0.96550267 0.03449733]\n",
      " [0.01873701 0.98126299]]\n"
     ]
    }
   ],
   "source": [
    "print(mlp.predict_proba(X_test))"
   ]
  },
  {
   "cell_type": "code",
   "execution_count": 17,
   "metadata": {},
   "outputs": [],
   "source": [
    "mlp = MLPClassifier(hidden_layer_sizes=(4),max_iter=100000)\n",
    "mlp.fit(X_train,Y_train)\n",
    "predictions = mlp.predict(X_test)"
   ]
  },
  {
   "cell_type": "code",
   "execution_count": 18,
   "metadata": {},
   "outputs": [
    {
     "name": "stdout",
     "output_type": "stream",
     "text": [
      "[[163   0]\n",
      " [  0 112]]\n"
     ]
    }
   ],
   "source": [
    "print(confusion_matrix(Y_test,predictions))"
   ]
  },
  {
   "cell_type": "code",
   "execution_count": 19,
   "metadata": {},
   "outputs": [
    {
     "name": "stdout",
     "output_type": "stream",
     "text": [
      "             precision    recall  f1-score   support\n",
      "\n",
      "          0       1.00      1.00      1.00       163\n",
      "          1       1.00      1.00      1.00       112\n",
      "\n",
      "avg / total       1.00      1.00      1.00       275\n",
      "\n"
     ]
    }
   ],
   "source": [
    "print(classification_report(Y_test,predictions,target_names=['0','1']))"
   ]
  },
  {
   "cell_type": "code",
   "execution_count": null,
   "metadata": {},
   "outputs": [],
   "source": []
  },
  {
   "cell_type": "code",
   "execution_count": null,
   "metadata": {},
   "outputs": [],
   "source": []
  }
 ],
 "metadata": {
  "kernelspec": {
   "display_name": "Python 3",
   "language": "python",
   "name": "python3"
  },
  "language_info": {
   "codemirror_mode": {
    "name": "ipython",
    "version": 3
   },
   "file_extension": ".py",
   "mimetype": "text/x-python",
   "name": "python",
   "nbconvert_exporter": "python",
   "pygments_lexer": "ipython3",
   "version": "3.6.6"
  }
 },
 "nbformat": 4,
 "nbformat_minor": 2
}
